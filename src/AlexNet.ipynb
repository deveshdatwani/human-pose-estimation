{
 "cells": [
  {
   "cell_type": "code",
   "execution_count": 3,
   "id": "97eadc29",
   "metadata": {},
   "outputs": [],
   "source": [
    "import tensorflow as tf\n",
    "from tensorflow.keras.models import Sequential\n",
    "from tensorflow.keras.layers import Conv2D, MaxPool2D, Dense, Flatten, LayerNormalization, Dropout\n",
    "import pickle\n",
    "import numpy as np\n",
    "import json"
   ]
  },
  {
   "cell_type": "code",
   "execution_count": 11,
   "id": "12f8cbcc",
   "metadata": {},
   "outputs": [],
   "source": [
    "# Building AlexNet\n",
    "\n",
    "class AlexNet():\n",
    "    \n",
    "    def __init__(self):\n",
    "        self.model = Sequential()\n",
    "        self.model.add(Conv2D(96, input_shape=(224, 224, 3), kernel_size=11, activation=\"relu\"))\n",
    "        self.model.add(LayerNormalization())\n",
    "        self.model.add(MaxPool2D((3,3)))\n",
    "        self.model.add(Conv2D(256, kernel_size=5, activation=\"relu\"))\n",
    "        self.model.add(LayerNormalization())\n",
    "        self.model.add(MaxPool2D((3,3)))\n",
    "        self.model.add(Conv2D(384, kernel_size=3, activation=\"relu\"))\n",
    "        self.model.add(LayerNormalization())\n",
    "        self.model.add(MaxPool2D((3,3)))\n",
    "        self.model.add(Conv2D(256, kernel_size=3, activation=\"relu\"))\n",
    "        self.model.add(LayerNormalization())\n",
    "        self.model.add(MaxPool2D((3,3)))\n",
    "        self.model.add(Flatten())\n",
    "        self.model.add(Dense(4096, activation=\"leaky_relu\"))\n",
    "        self.model.add(Dropout(0.6))\n",
    "        self.model.add(Dense(4096, activation=\"linear\"))\n",
    "        self.model.add(Dropout(0.6))\n",
    "        self.model.add(Dense(58))\n",
    "        self.model.compile(optimizer=tf.keras.optimizers.Adam(learning_rate=0.00005), loss=\"mean_squared_error\", metrics=\"accuracy\")"
   ]
  },
  {
   "cell_type": "code",
   "execution_count": 12,
   "id": "5bf036e4",
   "metadata": {},
   "outputs": [],
   "source": [
    "model = AlexNet()\n",
    "#model.model.summary()"
   ]
  },
  {
   "cell_type": "code",
   "execution_count": 20,
   "id": "8d7aaef5",
   "metadata": {},
   "outputs": [],
   "source": [
    "# Create custom dataset\n",
    "\n",
    "with open('ground_truth', 'rb') as file:\n",
    "    DATA = pickle.load(file)\n",
    "    \n",
    "file_paths = ['FLIC/images/' + idx[1] for idx in DATA]\n",
    "joint_keyframes = [idx[0] for idx in DATA]\n",
    "\n",
    "ds_train = tf.data.Dataset.from_tensor_slices((file_paths, joint_keyframes))\n",
    "\n",
    "def read_image(image_file, joint_keyframes):\n",
    "    image = tf.io.read_file(image_file)\n",
    "    image = tf.image.decode_image(image, channels=3, dtype=tf.float32)\n",
    "    image.set_shape([640, 640, 3])\n",
    "    image = tf.image.resize(image, [224, 224])\n",
    "    return image, joint_keyframes\n",
    "\n",
    "def image_resize(image_file, joint_keyframes):\n",
    "    image = tf.io.read_file(image_file)\n",
    "    print(image)\n",
    "    image =  tf.image.decode_jpeg(image, channels=3, dtype=tf.float32) \n",
    "    image_file = tf.image.resize(image, [224,224,3])\n",
    "    \n",
    "    return image_file, joint_keyframes\n",
    "\n",
    "\n",
    "#ds_train = ds_train.map(read_image).batch(4)"
   ]
  },
  {
   "cell_type": "code",
   "execution_count": 3,
   "id": "6a5d5418",
   "metadata": {},
   "outputs": [],
   "source": [
    "history = model.model.fit(ds_train, epochs=100)"
   ]
  },
  {
   "cell_type": "code",
   "execution_count": 2,
   "id": "5a9061c8",
   "metadata": {},
   "outputs": [],
   "source": [
    "import cv2\n",
    "import matplotlib.pyplot as plt\n",
    "image = plt.imread('FLIC/images/schindlers-list-00062271.jpg')\n",
    "plt.imshow(image)\n",
    "from skimage.transform import resize\n",
    "resize_image = resize(image, (1, 224,224,3))\n",
    "y_pred = model.model.predict(resize_image)\n",
    "\n",
    "import cv2\n",
    "from matplotlib import pyplot as plt\n",
    "\n",
    "import time\n",
    "\n",
    "start = time.time()\n",
    "\n",
    "fig, ax = plt.subplots(figsize=(10,10))\n",
    "\n",
    "for i in range(29):\n",
    "    if y_pred[0][i] > 0:\n",
    "        ax.scatter(y_pred[0][i], y_pred[0][i+28], color='red')\n",
    "\n",
    "#ax.imshow(image)\n",
    "\n",
    "end = time.time()"
   ]
  },
  {
   "cell_type": "code",
   "execution_count": 36,
   "id": "0e1ed966",
   "metadata": {
    "scrolled": true
   },
   "outputs": [
    {
     "data": {
      "text/plain": [
       "array([[237.35292   , 253.46576   , 241.62775   , 160.2268    ,\n",
       "        150.50766   , 156.51288   , 227.42314   ,  -0.4979312 ,\n",
       "         -0.49791232, 165.01013   ,  -0.4965788 ,  -0.49722263,\n",
       "        197.15715   , 183.89853   ,  -0.49682817,  -0.49558705,\n",
       "        190.07771   ,  -0.49737823,  -0.49585268,  -0.49794576,\n",
       "         -0.49677503,  -0.4956996 ,  -0.49538335,  -0.4955399 ,\n",
       "         -0.49854243,  -0.49781406,  -0.4967903 ,  -0.49741608,\n",
       "         -0.4973297 ,  90.7979    , 142.84976   , 171.74248   ,\n",
       "         92.461655  , 144.22765   , 165.51443   , 173.83868   ,\n",
       "         -0.4970816 ,  -0.49524117, 173.33733   ,  -0.49694332,\n",
       "         -0.49820414,  54.261497  ,  54.49266   ,  -0.49734214,\n",
       "         -0.4972309 ,  62.73138   ,  -0.49822092,  -0.49472702,\n",
       "         -0.4957203 ,  -0.4974459 ,  -0.49701536,  -0.49440193,\n",
       "         -0.49524322,  -0.495572  ,  -0.49656123,  -0.4987959 ,\n",
       "         -0.49706984,  -0.49739608]], dtype=float32)"
      ]
     },
     "execution_count": 36,
     "metadata": {},
     "output_type": "execute_result"
    }
   ],
   "source": [
    "y_pred"
   ]
  },
  {
   "cell_type": "code",
   "execution_count": null,
   "id": "9feae819",
   "metadata": {},
   "outputs": [],
   "source": []
  }
 ],
 "metadata": {
  "kernelspec": {
   "display_name": "Python 3",
   "language": "python",
   "name": "python3"
  },
  "language_info": {
   "codemirror_mode": {
    "name": "ipython",
    "version": 3
   },
   "file_extension": ".py",
   "mimetype": "text/x-python",
   "name": "python",
   "nbconvert_exporter": "python",
   "pygments_lexer": "ipython3",
   "version": "3.8.10"
  }
 },
 "nbformat": 4,
 "nbformat_minor": 5
}
