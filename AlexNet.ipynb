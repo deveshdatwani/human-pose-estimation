{
 "cells": [
  {
   "cell_type": "code",
   "execution_count": 3,
   "id": "97eadc29",
   "metadata": {},
   "outputs": [],
   "source": [
    "import tensorflow as tf\n",
    "from tensorflow.keras.models import Sequential\n",
    "from tensorflow.keras.layers import Conv2D, MaxPool2D, Dense"
   ]
  },
  {
   "cell_type": "code",
   "execution_count": 4,
   "id": "12f8cbcc",
   "metadata": {},
   "outputs": [],
   "source": [
    "class AlexNet():\n",
    "    \n",
    "    def __init__(self):\n",
    "        self.model = Sequential()\n",
    "        self.model.add(Conv2D(96, input_shape=(224,224,3), kernel_size=11, activation=\"relu\"))\n",
    "        self.model.add(MaxPool2D((3,3)))\n",
    "        self.model.add(Conv2D(256, kernel_size=5, activation=\"relu\"))\n",
    "        self.model.add(MaxPool2D((3,3)))\n",
    "        self.model.add(Conv2D(384, kernel_size=3, activation=\"relu\"))\n",
    "        self.model.add(MaxPool2D((3,3)))\n",
    "        self.model.add(Conv2D(256, kernel_size=3, activation=\"relu\"))\n",
    "        self.model.add(MaxPool2D((3,3)))\n",
    "        self.model.add(Dense(4096, activation=\"leaky_relu\"))\n",
    "        self.model.add(Dense(4096, activation=\"leaky_relu\"))\n",
    "        self.model.add(Dense(17, activation=\"linear\"))\n",
    "        self.model.compile(optimizer=\"sgd\", loss=\"root_mean_squared_error\", metrics=\"accuracy\")"
   ]
  },
  {
   "cell_type": "code",
   "execution_count": 7,
   "id": "5bf036e4",
   "metadata": {},
   "outputs": [],
   "source": [
    "model = AlexNet()\n",
    "#model.model.summary()"
   ]
  },
  {
   "cell_type": "code",
   "execution_count": 8,
   "id": "06dd0bbf",
   "metadata": {},
   "outputs": [],
   "source": [
    "KEYPOINT_DICT = {\n",
    "    'nose': 0,\n",
    "    'left_eye': 1,\n",
    "    'right_eye': 2,\n",
    "    'left_ear': 3,\n",
    "    'right_ear': 4,\n",
    "    'left_shoulder': 5,\n",
    "    'right_shoulder': 6,\n",
    "    'left_elbow': 7,\n",
    "    'right_elbow': 8,\n",
    "    'left_wrist': 9,\n",
    "    'right_wrist': 10,\n",
    "    'left_hip': 11,\n",
    "    'right_hip': 12,\n",
    "    'left_knee': 13,\n",
    "    'right_knee': 14,\n",
    "    'left_ankle': 15,\n",
    "    'right_ankle': 16\n",
    "}"
   ]
  },
  {
   "cell_type": "code",
   "execution_count": 29,
   "id": "8d7aaef5",
   "metadata": {},
   "outputs": [],
   "source": [
    "import pathlib\n",
    "\n",
    "data_dir = pathlib.Path('images')\n",
    "dataset = tf.data.Dataset.list_files(\"images/*.jpg\")"
   ]
  },
  {
   "cell_type": "code",
   "execution_count": 31,
   "id": "0e2e2bb5",
   "metadata": {},
   "outputs": [
    {
     "name": "stdout",
     "output_type": "stream",
     "text": [
      "24984\n"
     ]
    }
   ],
   "source": [
    "print(len(dataset))"
   ]
  },
  {
   "cell_type": "code",
   "execution_count": 36,
   "id": "dd8155a1",
   "metadata": {},
   "outputs": [],
   "source": [
    "import json\n",
    "\n",
    "with open('train.json') as file:\n",
    "    data = json.load(file)\n",
    "y_train = data"
   ]
  },
  {
   "cell_type": "code",
   "execution_count": 37,
   "id": "8371fa8d",
   "metadata": {},
   "outputs": [
    {
     "data": {
      "text/plain": [
       "22246"
      ]
     },
     "execution_count": 37,
     "metadata": {},
     "output_type": "execute_result"
    }
   ],
   "source": [
    "len(y_train)"
   ]
  },
  {
   "cell_type": "code",
   "execution_count": null,
   "id": "16860cd0",
   "metadata": {},
   "outputs": [],
   "source": []
  }
 ],
 "metadata": {
  "kernelspec": {
   "display_name": "Python 3",
   "language": "python",
   "name": "python3"
  },
  "language_info": {
   "codemirror_mode": {
    "name": "ipython",
    "version": 3
   },
   "file_extension": ".py",
   "mimetype": "text/x-python",
   "name": "python",
   "nbconvert_exporter": "python",
   "pygments_lexer": "ipython3",
   "version": "3.8.10"
  }
 },
 "nbformat": 4,
 "nbformat_minor": 5
}
