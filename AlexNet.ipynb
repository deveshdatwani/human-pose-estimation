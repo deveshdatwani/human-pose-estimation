{
 "cells": [
  {
   "cell_type": "code",
   "execution_count": 21,
   "id": "97eadc29",
   "metadata": {},
   "outputs": [],
   "source": [
    "import tensorflow as tf\n",
    "from tensorflow.keras.models import Sequential\n",
    "from tensorflow.keras.layers import Conv2D, MaxPool2D, Dense"
   ]
  },
  {
   "cell_type": "code",
   "execution_count": 30,
   "id": "12f8cbcc",
   "metadata": {},
   "outputs": [],
   "source": [
    "class AlexNet():\n",
    "    \n",
    "    def __init__(self):\n",
    "        self.model = Sequential()\n",
    "        self.model.add(Conv2D(96, input_shape=(224,224,3), kernel_size=11, activation=\"relu\"))\n",
    "        self.model.add(MaxPool2D((3,3)))\n",
    "        self.model.add(Conv2D(256, kernel_size=5, activation=\"relu\"))\n",
    "        self.model.add(MaxPool2D((3,3)))\n",
    "        self.model.add(Conv2D(384, kernel_size=3, activation=\"relu\"))\n",
    "        self.model.add(MaxPool2D((3,3)))\n",
    "        self.model.add(Conv2D(256, kernel_size=3, activation=\"relu\"))\n",
    "        self.model.add(MaxPool2D((3,3)))\n",
    "        self.model.add(Dense(4096, activation=\"leaky_relu\"))\n",
    "        self.model.add(Dense(4096, activation=\"leaky_relu\"))\n",
    "        self.model.add(Dense(17, activation=\"linear\"))\n",
    "        self.model.compile(optimizer=\"sgd\", loss=\"root_mean_squared_error\", metrics=\"accuracy\")"
   ]
  },
  {
   "cell_type": "code",
   "execution_count": 31,
   "id": "5bf036e4",
   "metadata": {},
   "outputs": [],
   "source": [
    "model = AlexNet()"
   ]
  },
  {
   "cell_type": "code",
   "execution_count": 32,
   "id": "06dd0bbf",
   "metadata": {},
   "outputs": [
    {
     "name": "stdout",
     "output_type": "stream",
     "text": [
      "Model: \"sequential_11\"\n",
      "_________________________________________________________________\n",
      " Layer (type)                Output Shape              Param #   \n",
      "=================================================================\n",
      " conv2d_26 (Conv2D)          (None, 214, 214, 96)      34944     \n",
      "                                                                 \n",
      " max_pooling2d_21 (MaxPoolin  (None, 71, 71, 96)       0         \n",
      " g2D)                                                            \n",
      "                                                                 \n",
      " conv2d_27 (Conv2D)          (None, 67, 67, 256)       614656    \n",
      "                                                                 \n",
      " max_pooling2d_22 (MaxPoolin  (None, 22, 22, 256)      0         \n",
      " g2D)                                                            \n",
      "                                                                 \n",
      " conv2d_28 (Conv2D)          (None, 20, 20, 384)       885120    \n",
      "                                                                 \n",
      " max_pooling2d_23 (MaxPoolin  (None, 6, 6, 384)        0         \n",
      " g2D)                                                            \n",
      "                                                                 \n",
      " conv2d_29 (Conv2D)          (None, 4, 4, 256)         884992    \n",
      "                                                                 \n",
      " max_pooling2d_24 (MaxPoolin  (None, 1, 1, 256)        0         \n",
      " g2D)                                                            \n",
      "                                                                 \n",
      " dense_5 (Dense)             (None, 1, 1, 4096)        1052672   \n",
      "                                                                 \n",
      " dense_6 (Dense)             (None, 1, 1, 4096)        16781312  \n",
      "                                                                 \n",
      " dense_7 (Dense)             (None, 1, 1, 100)         409700    \n",
      "                                                                 \n",
      "=================================================================\n",
      "Total params: 20,663,396\n",
      "Trainable params: 20,663,396\n",
      "Non-trainable params: 0\n",
      "_________________________________________________________________\n"
     ]
    }
   ],
   "source": [
    "model.model.summary()"
   ]
  },
  {
   "cell_type": "code",
   "execution_count": null,
   "id": "8d7aaef5",
   "metadata": {},
   "outputs": [],
   "source": []
  },
  {
   "cell_type": "code",
   "execution_count": null,
   "id": "0e2e2bb5",
   "metadata": {},
   "outputs": [],
   "source": []
  }
 ],
 "metadata": {
  "kernelspec": {
   "display_name": "Python 3",
   "language": "python",
   "name": "python3"
  },
  "language_info": {
   "codemirror_mode": {
    "name": "ipython",
    "version": 3
   },
   "file_extension": ".py",
   "mimetype": "text/x-python",
   "name": "python",
   "nbconvert_exporter": "python",
   "pygments_lexer": "ipython3",
   "version": "3.8.10"
  }
 },
 "nbformat": 4,
 "nbformat_minor": 5
}
