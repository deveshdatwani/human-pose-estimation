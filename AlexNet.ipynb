{
 "cells": [
  {
   "cell_type": "code",
   "execution_count": 2,
   "id": "97eadc29",
   "metadata": {},
   "outputs": [],
   "source": [
    "import tensorflow as tf\n",
    "from tensorflow.keras.models import Sequential\n",
    "from tensorflow.keras.layers import Conv2D, MaxPool2D, Dense, Flatten, LayerNormalization, Dropout\n",
    "import pickle\n",
    "import numpy as np\n",
    "import json"
   ]
  },
  {
   "cell_type": "code",
   "execution_count": 3,
   "id": "12f8cbcc",
   "metadata": {},
   "outputs": [],
   "source": [
    "# Building AlexNet\n",
    "\n",
    "class AlexNet():\n",
    "    \n",
    "    def __init__(self):\n",
    "        self.model = Sequential()\n",
    "        self.model.add(Conv2D(96, input_shape=(224, 224, 3), kernel_size=11, activation=\"relu\"))\n",
    "        self.model.add(LayerNormalization())\n",
    "        self.model.add(MaxPool2D((3,3)))\n",
    "        self.model.add(Conv2D(256, kernel_size=5, activation=\"relu\"))\n",
    "        self.model.add(LayerNormalization())\n",
    "        self.model.add(MaxPool2D((3,3)))\n",
    "        self.model.add(Conv2D(384, kernel_size=3, activation=\"relu\"))\n",
    "        self.model.add(LayerNormalization())\n",
    "        self.model.add(MaxPool2D((3,3)))\n",
    "        self.model.add(Conv2D(256, kernel_size=3, activation=\"relu\"))\n",
    "        self.model.add(LayerNormalization())\n",
    "        self.model.add(MaxPool2D((3,3)))\n",
    "        self.model.add(Flatten())\n",
    "        self.model.add(Dense(4096, activation=\"leaky_relu\"))\n",
    "        self.model.add(Dropout(0.6))\n",
    "        self.model.add(Dense(4096, activation=\"linear\"))\n",
    "        self.model.add(Dropout(0.6))\n",
    "        self.model.add(Dense(58))\n",
    "        self.model.compile(optimizer=tf.keras.optimizers.Adam(learning_rate=0.00005), loss=\"mean_squared_error\", metrics=\"accuracy\")"
   ]
  },
  {
   "cell_type": "code",
   "execution_count": 4,
   "id": "5bf036e4",
   "metadata": {},
   "outputs": [],
   "source": [
    "model = AlexNet()\n",
    "#model.model.summary()"
   ]
  },
  {
   "cell_type": "code",
   "execution_count": 5,
   "id": "8d7aaef5",
   "metadata": {},
   "outputs": [],
   "source": [
    "# Create custom dataset\n",
    "\n",
    "with open('ground_truth', 'rb') as file:\n",
    "    DATA = pickle.load(file)\n",
    "    \n",
    "file_paths = ['FLIC/images/' + idx[1] for idx in DATA]\n",
    "joint_keyframes = [idx[0] for idx in DATA]\n",
    "\n",
    "ds_train = tf.data.Dataset.from_tensor_slices((file_paths, joint_keyframes))\n",
    "\n",
    "def read_image(image_file, joint_keyframes):\n",
    "    image = tf.io.read_file(image_file)\n",
    "    image = tf.image.decode_image(image, channels=3, dtype=tf.float32)\n",
    "    image.set_shape([640, 640, 3])\n",
    "    image = tf.image.resize(image, [224, 224])\n",
    "    return image, joint_keyframes\n",
    "\n",
    "def image_resize(image_file, joint_keyframes):\n",
    "    image = tf.io.read_file(image_file)\n",
    "    image =  tf.image.decode_jpeg(image, channels=3, dtype=tf.float32) \n",
    "    image_file = tf.image.resize(image, [224,224,3])\n",
    "    \n",
    "    return image_file, joint_keyframes\n",
    "\n",
    "\n",
    "ds_train = ds_train.map(read_image).batch(4)"
   ]
  },
  {
   "cell_type": "code",
   "execution_count": null,
   "id": "6a5d5418",
   "metadata": {},
   "outputs": [
    {
     "name": "stdout",
     "output_type": "stream",
     "text": [
      "Epoch 1/5\n",
      "1251/1251 [==============================] - 1432s 1s/step - loss: 5224.6406 - accuracy: 0.3106\n",
      "Epoch 2/5\n",
      "1251/1251 [==============================] - 1431s 1s/step - loss: 3818.2629 - accuracy: 0.3300\n",
      "Epoch 3/5\n",
      "1251/1251 [==============================] - 1433s 1s/step - loss: 3762.2007 - accuracy: 0.3438\n",
      "Epoch 4/5\n",
      "  74/1251 [>.............................] - ETA: 22:25 - loss: 4312.3867 - accuracy: 0.3277"
     ]
    }
   ],
   "source": [
    "history = model.model.fit(ds_train, epochs=5)"
   ]
  },
  {
   "cell_type": "code",
   "execution_count": null,
   "id": "44a53381",
   "metadata": {},
   "outputs": [],
   "source": [
    "len(joint_keyframes[0])"
   ]
  },
  {
   "cell_type": "code",
   "execution_count": null,
   "id": "f4c72c89",
   "metadata": {},
   "outputs": [],
   "source": [
    "file_paths[0]"
   ]
  },
  {
   "cell_type": "code",
   "execution_count": null,
   "id": "fb83367a",
   "metadata": {},
   "outputs": [],
   "source": []
  }
 ],
 "metadata": {
  "kernelspec": {
   "display_name": "Python 3",
   "language": "python",
   "name": "python3"
  },
  "language_info": {
   "codemirror_mode": {
    "name": "ipython",
    "version": 3
   },
   "file_extension": ".py",
   "mimetype": "text/x-python",
   "name": "python",
   "nbconvert_exporter": "python",
   "pygments_lexer": "ipython3",
   "version": "3.8.10"
  }
 },
 "nbformat": 4,
 "nbformat_minor": 5
}
